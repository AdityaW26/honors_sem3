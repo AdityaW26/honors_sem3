{
 "cells": [
  {
   "cell_type": "code",
   "execution_count": 14,
   "metadata": {},
   "outputs": [
    {
     "name": "stdout",
     "output_type": "stream",
     "text": [
      "Requirement already satisfied: pytesseract in c:\\users\\lenovo\\.conda\\envs\\myenv\\lib\\site-packages (0.3.8)\n",
      "Requirement already satisfied: Pillow in c:\\users\\lenovo\\.conda\\envs\\myenv\\lib\\site-packages (from pytesseract) (8.4.0)\n",
      "Requirement already satisfied: opencv-python in c:\\users\\lenovo\\.conda\\envs\\myenv\\lib\\site-packages (4.6.0.66)\n",
      "Requirement already satisfied: numpy>=1.13.3 in c:\\users\\lenovo\\.conda\\envs\\myenv\\lib\\site-packages (from opencv-python) (1.19.5)\n"
     ]
    }
   ],
   "source": [
    "!pip install pytesseract\n",
    "!pip install opencv-python"
   ]
  },
  {
   "cell_type": "code",
   "execution_count": 18,
   "metadata": {},
   "outputs": [],
   "source": [
    "# C:\\Program Files\\Tesseract-OCR\n",
    "pytesseract.pytesseract.tesseract_cmd = r'C:\\Program Files\\Tesseract-OCR\\tesseract.exe'"
   ]
  },
  {
   "cell_type": "code",
   "execution_count": 19,
   "metadata": {},
   "outputs": [],
   "source": [
    "import cv2\n",
    "import pytesseract\n",
    "import numpy as np\n",
    "#/home/abhishek/BE Sem1/honors"
   ]
  },
  {
   "cell_type": "code",
   "execution_count": 20,
   "metadata": {},
   "outputs": [
    {
     "name": "stdout",
     "output_type": "stream",
     "text": [
      "[[[255 255 255]\n",
      "  [255 255 255]\n",
      "  [255 255 255]\n",
      "  ...\n",
      "  [255 255 255]\n",
      "  [255 255 255]\n",
      "  [255 255 255]]\n",
      "\n",
      " [[255 255 255]\n",
      "  [255 255 255]\n",
      "  [255 255 255]\n",
      "  ...\n",
      "  [255 255 255]\n",
      "  [255 255 255]\n",
      "  [255 255 255]]\n",
      "\n",
      " [[255 255 255]\n",
      "  [255 255 255]\n",
      "  [255 255 255]\n",
      "  ...\n",
      "  [255 255 255]\n",
      "  [255 255 255]\n",
      "  [255 255 255]]\n",
      "\n",
      " ...\n",
      "\n",
      " [[255 255 255]\n",
      "  [255 255 255]\n",
      "  [255 255 255]\n",
      "  ...\n",
      "  [255 255 255]\n",
      "  [255 255 255]\n",
      "  [255 255 255]]\n",
      "\n",
      " [[255 255 255]\n",
      "  [255 255 255]\n",
      "  [255 255 255]\n",
      "  ...\n",
      "  [255 255 255]\n",
      "  [255 255 255]\n",
      "  [255 255 255]]\n",
      "\n",
      " [[255 255 255]\n",
      "  [255 255 255]\n",
      "  [255 255 255]\n",
      "  ...\n",
      "  [255 255 255]\n",
      "  [255 255 255]\n",
      "  [255 255 255]]]\n",
      "On the Insert tab, the galleries include items that are designed\n",
      "to coordinate with the overall look of your document. You can\n",
      "use these galleries to insert tables, headers, footers, lists, cover\n",
      "pages, and other document building blocks. When you create\n",
      "pictures, charts, or diagrams, they also coordinate with your\n",
      "current document look.\n",
      "\n"
     ]
    }
   ],
   "source": [
    "#Loading image using OpenCV\n",
    "#D:\\Aditya\\PICT\\Honors\\Sem3\\DS_Honors_lab\\ass2\n",
    "#/Honors/Sem3/DS_Honors_lab/ass2/sample.png\n",
    "img = cv2.imread('sample.png')\n",
    "print(img)\n",
    "#Preprocessing image\n",
    "#Converting to grayscale\n",
    "gray_image = cv2.cvtColor(img, cv2.COLOR_BGR2GRAY)\n",
    " \n",
    "#creating Binary image by selecting proper threshold\n",
    "binary_image = cv2.threshold(gray_image ,130,255,cv2.THRESH_BINARY + cv2.THRESH_OTSU)[1]\n",
    " \n",
    "#Inverting the image\n",
    "inverted_bin = cv2.bitwise_not(binary_image)\n",
    " \n",
    "#Some noise reduction\n",
    "kernel = np.ones((2,2),np.uint8)\n",
    "processed_img = cv2.erode(inverted_bin, kernel, iterations = 1)\n",
    "processed_img = cv2.dilate(processed_img, kernel, iterations = 1)\n",
    " \n",
    "#Applying image_to_string method\n",
    "text = pytesseract.image_to_string(processed_img)\n",
    " \n",
    "print(text)"
   ]
  },
  {
   "cell_type": "code",
   "execution_count": null,
   "metadata": {},
   "outputs": [],
   "source": []
  }
 ],
 "metadata": {
  "kernelspec": {
   "display_name": "Python 3",
   "language": "python",
   "name": "python3"
  },
  "language_info": {
   "codemirror_mode": {
    "name": "ipython",
    "version": 3
   },
   "file_extension": ".py",
   "mimetype": "text/x-python",
   "name": "python",
   "nbconvert_exporter": "python",
   "pygments_lexer": "ipython3",
   "version": "3.6.13"
  },
  "vscode": {
   "interpreter": {
    "hash": "916dbcbb3f70747c44a77c7bcd40155683ae19c65e1c03b4aa3499c5328201f1"
   }
  }
 },
 "nbformat": 4,
 "nbformat_minor": 2
}
